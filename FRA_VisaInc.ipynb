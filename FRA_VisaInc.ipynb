{
  "nbformat": 4,
  "nbformat_minor": 0,
  "metadata": {
    "colab": {
      "provenance": []
    },
    "kernelspec": {
      "name": "python3",
      "display_name": "Python 3"
    },
    "language_info": {
      "name": "python"
    }
  },
  "cells": [
    {
      "cell_type": "code",
      "execution_count": null,
      "metadata": {
        "colab": {
          "base_uri": "https://localhost:8080/"
        },
        "id": "fQC5WbajDumR",
        "outputId": "6e97cbdf-8061-41d7-f7b8-d9511fd39b36"
      },
      "outputs": [
        {
          "output_type": "stream",
          "name": "stderr",
          "text": [
            "\r[*********************100%***********************]  1 of 1 completed"
          ]
        },
        {
          "output_type": "stream",
          "name": "stdout",
          "text": [
            "Description:\n",
            " count    773.000000\n",
            "mean       0.000311\n",
            "std        0.014664\n",
            "min       -0.072375\n",
            "25%       -0.007648\n",
            "50%        0.001133\n",
            "75%        0.007956\n",
            "max        0.094291\n",
            "Name: Daily Return, dtype: float64\n",
            "Skew: -0.014026554805403896\n",
            "Kurtosis: 4.092471090928017\n"
          ]
        },
        {
          "output_type": "stream",
          "name": "stderr",
          "text": [
            "\n"
          ]
        }
      ],
      "source": [
        "import yfinance as yf\n",
        "import pandas as pd\n",
        "import numpy as np\n",
        "import datetime as dt\n",
        "\n",
        "# Step 1: Data Collection\n",
        "# Define the stock ticker and download the historical price data\n",
        "ticker = \"Visa.NE\"\n",
        "end_date = dt.date.today()\n",
        "start_date = end_date - dt.timedelta(days=5*365)  # 5 years of data\n",
        "# Downloading data using yfinance\n",
        "data = yf.download(ticker, start=start_date, end=end_date)\n",
        "\n",
        "# Step 2: Return Calculation\n",
        "# Calculate daily returns\n",
        "data['Daily Return'] = np.log(1+data['Adj Close'].pct_change().dropna())\n",
        "\n",
        "data['Daily Return'].describe()\n",
        "data['Daily Return'].skew()\n",
        "data['Daily Return'].kurt()\n",
        "\n",
        "print(\"Description:\\n\", data['Daily Return'].describe())\n",
        "print(\"Skew:\", data['Daily Return'].skew())\n",
        "print(\"Kurtosis:\", data['Daily Return'].kurt())\n"
      ]
    },
    {
      "cell_type": "code",
      "source": [
        "# Step 3: VaR Calculation using Historical Simulation at 95% confidence level\n",
        "confidence_level = 0.95\n",
        "\n",
        "# Calculate the VaR at the 0.3th percentile (100 - confidence_level)\n",
        "VaR_95 = np.percentile(data['Daily Return'].dropna(), (1 - confidence_level) * 100)\n",
        "\n",
        "# Convert to a percentage for interpretation\n",
        "VaR_95_percentage = abs(VaR_95* 100)\n",
        "\n",
        "# Interpret the VaR in terms of monetary value (assuming an investment amount)\n",
        "investment_value = 1000000  # Example: 1 million INR\n",
        "VaR_95_value = investment_value * abs(VaR_95)\n",
        "VaR_95_10_value = VaR_95_value*np.sqrt(10)\n",
        "\n",
        "# Step 4: Output the Results\n",
        "print(f\"1-Day VaR at 95% Confidence Level for {ticker}:\")\n",
        "print(f\"VaR (Percentage): {VaR_95_percentage:.2f}%\")\n",
        "print(f\"VaR (Monetary Value): ${VaR_95_value:,.2f} for an investment of ${investment_value:,.2f}\")\n",
        "print(f\"10-Day VaR (Monetary Value): ${VaR_95_10_value:,.2f} for an investment of ${investment_value:,.2f}\")\n",
        "\n",
        "# Summary of the VaR Calculation\n",
        "print(f\"\\nSummary:\")\n",
        "print(f\"- Time Period: Last 5 years (from {start_date} to {end_date})\")\n",
        "print(f\"- Number of Data Points: {len(data['Daily Return'].dropna())}\")\n",
        "print(f\"- Historical Simulation Method: Yes\")"
      ],
      "metadata": {
        "colab": {
          "base_uri": "https://localhost:8080/"
        },
        "id": "eGZgQVoJlGZb",
        "outputId": "fb93b094-3a09-4c2a-b535-b32e41a48e4a"
      },
      "execution_count": null,
      "outputs": [
        {
          "output_type": "stream",
          "name": "stdout",
          "text": [
            "1-Day VaR at 95% Confidence Level for Visa.NE:\n",
            "VaR (Percentage): 2.50%\n",
            "VaR (Monetary Value): $25,005.58 for an investment of $1,000,000.00\n",
            "10-Day VaR (Monetary Value): $79,074.59 for an investment of $1,000,000.00\n",
            "\n",
            "Summary:\n",
            "- Time Period: Last 5 years (from 2019-11-07 to 2024-11-05)\n",
            "- Number of Data Points: 773\n",
            "- Historical Simulation Method: Yes\n"
          ]
        }
      ]
    },
    {
      "cell_type": "code",
      "source": [
        "# Step 3: VaR Calculation using Historical Simulation at 99% confidence level\n",
        "\n",
        "confidence_level = 0.99\n",
        "\n",
        "# Calculate the VaR at the 0.3th percentile (100 - confidence_level)\n",
        "VaR_99 = np.percentile(data['Daily Return'].dropna(), (1 - confidence_level) * 100)\n",
        "\n",
        "# Convert to a percentage for interpretation\n",
        "VaR_99_percentage = abs(VaR_99* 100)\n",
        "\n",
        "# Interpret the VaR in terms of monetary value (assuming an investment amount)\n",
        "investment_value = 1000000  # Example: 1 million INR\n",
        "VaR_99_value = investment_value * abs(VaR_99)\n",
        "VaR_99_10_value = VaR_99_value*np.sqrt(10)\n",
        "\n",
        "# Step 4: Output the Results\n",
        "print(f\"1-Day VaR at 99% Confidence Level for {ticker}:\")\n",
        "print(f\"VaR (Percentage): {VaR_99_percentage:.2f}%\")\n",
        "print(f\"VaR (Monetary Value): ${VaR_99_value:,.2f} for an investment of ${investment_value:,.2f}\")\n",
        "print(f\"10-Day VaR (Monetary Value): ${VaR_99_10_value:,.2f} for an investment of ${investment_value:,.2f}\")\n",
        "\n",
        "# Summary of the VaR Calculation\n",
        "print(f\"\\nSummary:\")\n",
        "print(f\"- Time Period: Last 10 years (from {start_date} to {end_date})\")\n",
        "print(f\"- Number of Data Points: {len(data['Daily Return'].dropna())}\")\n",
        "print(f\"- Historical Simulation Method: Yes\")"
      ],
      "metadata": {
        "colab": {
          "base_uri": "https://localhost:8080/"
        },
        "id": "MOvr3SqCk_2A",
        "outputId": "45ce12ad-b363-4f68-8396-19239859fb37"
      },
      "execution_count": null,
      "outputs": [
        {
          "output_type": "stream",
          "name": "stdout",
          "text": [
            "1-Day VaR at 99% Confidence Level for Visa.NE:\n",
            "VaR (Percentage): 4.02%\n",
            "VaR (Monetary Value): $40,155.00 for an investment of $1,000,000.00\n",
            "10-Day VaR (Monetary Value): $126,981.26 for an investment of $1,000,000.00\n",
            "\n",
            "Summary:\n",
            "- Time Period: Last 10 years (from 2019-11-07 to 2024-11-05)\n",
            "- Number of Data Points: 773\n",
            "- Historical Simulation Method: Yes\n"
          ]
        }
      ]
    },
    {
      "cell_type": "code",
      "source": [
        "#Parametric VaR at 95% Level\n",
        "\n",
        "# Step 1: Assumptions\n",
        "# These are inherent in the method, so no additional code is needed to define them.\n",
        "\n",
        "# Step 2: Calculation Steps\n",
        "\n",
        "# Estimate Mean and Standard Deviation\n",
        "from scipy.stats import norm\n",
        "mean_return = data['Daily Return'].mean()\n",
        "std_dev_return = data['Daily Return'].std()\n",
        "\n",
        "# Determine Z-Score for a 95% confidence level\n",
        "confidence_level = 0.95\n",
        "z_score = norm.ppf(1 - confidence_level)  # ppf is the percent point function (inverse of cdf)\n",
        "\n",
        "# Calculate Parametric VaR\n",
        "parametric_var_95 = mean_return + z_score * std_dev_return\n",
        "\n",
        "# Convert to a percentage for interpretation\n",
        "parametric_var_95_percentage = parametric_var_95 * 100\n",
        "\n",
        "# Calculate the monetary VaR (for an assumed investment value)\n",
        "investment_value = 1000000  # Example: 1 million INR\n",
        "parametric_var_95_value = investment_value * abs(parametric_var_95)\n",
        "\n",
        "# Step 3: Output the Results\n",
        "print(f\"1-Day Parametric VaR at 95% Confidence Level for {ticker}:\")\n",
        "print(f\"VaR (Percentage): {parametric_var_95_percentage:.2f}%\")\n",
        "print(f\"VaR (Monetary Value): ${parametric_var_95_value:,.2f} for an investment of ${investment_value:,.2f}\")\n",
        "\n",
        "# Summary of the VaR Calculation\n",
        "print(f\"\\nSummary:\")\n",
        "print(f\"- Time Period: Last 5 years (from {start_date} to {end_date})\")\n",
        "print(f\"- Mean Return: {mean_return:.6f}\")\n",
        "print(f\"- Standard Deviation: {std_dev_return:.6f}\")\n",
        "print(f\"- Z-Score for 95% Confidence Level: {z_score:.4f}\")\n"
      ],
      "metadata": {
        "colab": {
          "base_uri": "https://localhost:8080/"
        },
        "id": "ivUrZr63rCm8",
        "outputId": "338cbc7a-ac8c-40d8-824e-66dabc13a0e9"
      },
      "execution_count": null,
      "outputs": [
        {
          "output_type": "stream",
          "name": "stdout",
          "text": [
            "1-Day Parametric VaR at 95% Confidence Level for Visa.NE:\n",
            "VaR (Percentage): -2.38%\n",
            "VaR (Monetary Value): $23,810.34 for an investment of $1,000,000.00\n",
            "\n",
            "Summary:\n",
            "- Time Period: Last 5 years (from 2019-11-07 to 2024-11-05)\n",
            "- Mean Return: 0.000311\n",
            "- Standard Deviation: 0.014664\n",
            "- Z-Score for 95% Confidence Level: -1.6449\n"
          ]
        }
      ]
    },
    {
      "cell_type": "code",
      "source": [
        "#Parametric VaR at 99% Level\n",
        "from scipy.stats import norm\n",
        "\n",
        "# Step 1: Assumptions\n",
        "# These are inherent in the method, so no additional code is needed to define them.\n",
        "\n",
        "# Step 2: Calculation Steps\n",
        "\n",
        "# Estimate Mean and Standard Deviation\n",
        "mean_return = data['Daily Return'].mean()\n",
        "std_dev_return = data['Daily Return'].std()\n",
        "\n",
        "# Determine Z-Score for a 99% confidence level\n",
        "confidence_level = 0.99\n",
        "z_score = norm.ppf(1 - confidence_level)  # ppf is the percent point function (inverse of cdf)\n",
        "\n",
        "# Calculate Parametric VaR\n",
        "parametric_var_99 = mean_return + z_score * std_dev_return\n",
        "\n",
        "# Convert to a percentage for interpretation\n",
        "parametric_var_99_percentage = parametric_var_99 * 100\n",
        "\n",
        "# Calculate the monetary VaR (for an assumed investment value)\n",
        "investment_value = 1000000  # Example: 1 million INR\n",
        "parametric_var_99_value = investment_value * abs(parametric_var_99)\n",
        "\n",
        "# Step 3: Output the Results\n",
        "print(f\"1-Day Parametric VaR at 99% Confidence Level for {ticker}:\")\n",
        "print(f\"VaR (Percentage): {parametric_var_99_percentage:.2f}%\")\n",
        "print(f\"VaR (Monetary Value): ₹{parametric_var_99_value:,.2f} for an investment of ₹{investment_value:,.2f}\")\n",
        "\n",
        "# Summary of the VaR Calculation\n",
        "print(f\"\\nSummary:\")\n",
        "print(f\"- Time Period: Last 5 years (from {start_date} to {end_date})\")\n",
        "print(f\"- Mean Return: {mean_return:.6f}\")\n",
        "print(f\"- Standard Deviation: {std_dev_return:.6f}\")\n",
        "print(f\"- Z-Score for 99% Confidence Level: {z_score:.4f}\")\n"
      ],
      "metadata": {
        "colab": {
          "base_uri": "https://localhost:8080/"
        },
        "id": "P97S6zmKsBA2",
        "outputId": "5b9bc6c8-c55c-4ac8-a57e-3d572021f020"
      },
      "execution_count": null,
      "outputs": [
        {
          "output_type": "stream",
          "name": "stdout",
          "text": [
            "1-Day Parametric VaR at 99% Confidence Level for Visa.NE:\n",
            "VaR (Percentage): -3.38%\n",
            "VaR (Monetary Value): ₹33,804.09 for an investment of ₹1,000,000.00\n",
            "\n",
            "Summary:\n",
            "- Time Period: Last 5 years (from 2019-11-07 to 2024-11-05)\n",
            "- Mean Return: 0.000311\n",
            "- Standard Deviation: 0.014664\n",
            "- Z-Score for 99% Confidence Level: -2.3263\n"
          ]
        }
      ]
    },
    {
      "cell_type": "code",
      "source": [
        "#MonteCarlo at 95% confidence level\n",
        "\n",
        "import numpy as np\n",
        "import scipy.stats as stats\n",
        "\n",
        "# Step 1: Generate Random Returns\n",
        "# Assuming returns are normally distributed, we'll generate random returns based on the historical mean and standard deviation.\n",
        "num_simulations = 10000  # Number of simulations\n",
        "time_horizon = 1  # 1-day horizon for VaR\n",
        "\n",
        "# Generate random returns\n",
        "degree_of_freedom = 5  #  degree of freedom for Student's t-distribution\n",
        "random_returns = stats.t.rvs(df=degree_of_freedom, loc=mean_return, scale=std_dev_return, size=num_simulations)\n",
        "\n",
        "# Step 2: Simulate Portfolio Value\n",
        "# Assume the current portfolio value (investment value)\n",
        "current_portfolio_value = 1000000  # Example: 1 million INR\n",
        "\n",
        "# Simulate future portfolio values based on the generated random returns\n",
        "simulated_portfolio_values = current_portfolio_value * (1 + random_returns)\n",
        "\n",
        "# Step 3: Calculate VaR\n",
        "# Sort the simulated portfolio values\n",
        "simulated_portfolio_values_sorted = np.sort(simulated_portfolio_values)\n",
        "\n",
        "# Calculate the 5th percentile value (95% confidence level VaR)\n",
        "confidence_level = 0.95\n",
        "var_95_index = int((1 - confidence_level) * num_simulations)\n",
        "monte_carlo_var_95 = current_portfolio_value - simulated_portfolio_values_sorted[var_95_index]\n",
        "\n",
        "# Convert VaR to percentage for interpretation\n",
        "monte_carlo_var_95_percentage = monte_carlo_var_95 / current_portfolio_value * 100\n",
        "\n",
        "# Step 4: Output the Results\n",
        "print(f\"1-Day Monte Carlo VaR at 95% Confidence Level for {ticker}:\")\n",
        "print(f\"VaR (Monetary Value): ${monte_carlo_var_95:,.2f} for an investment of ${current_portfolio_value:,.2f}\")\n",
        "print(f\"VaR (Percentage): {monte_carlo_var_95_percentage:.2f}%\")\n",
        "\n",
        "# Summary of Monte Carlo VaR\n",
        "print(f\"\\nSummary of Monte Carlo Simulation:\")\n",
        "print(f\"- Number of Simulations: {num_simulations}\")\n",
        "print(f\"- Time Horizon: {time_horizon} day(s)\")\n",
        "\n"
      ],
      "metadata": {
        "colab": {
          "base_uri": "https://localhost:8080/"
        },
        "id": "DlBYgpt4yV86",
        "outputId": "4aa844ab-9220-4e1c-d1fd-97c76e3ce7e5"
      },
      "execution_count": null,
      "outputs": [
        {
          "output_type": "stream",
          "name": "stdout",
          "text": [
            "1-Day Monte Carlo VaR at 95% Confidence Level for Visa.NE:\n",
            "VaR (Monetary Value): $29,280.93 for an investment of $1,000,000.00\n",
            "VaR (Percentage): 2.93%\n",
            "\n",
            "Summary of Monte Carlo Simulation:\n",
            "- Number of Simulations: 10000\n",
            "- Time Horizon: 1 day(s)\n"
          ]
        }
      ]
    },
    {
      "cell_type": "code",
      "source": [
        "#MonteCarlo at 99% confidence level\n",
        "\n",
        "import numpy as np\n",
        "import scipy.stats as stats\n",
        "\n",
        "# Step 1: Generate Random Returns\n",
        "# Assuming returns are normally distributed, we'll generate random returns based on the historical mean and standard deviation.\n",
        "num_simulations = 10000  # Number of simulations\n",
        "time_horizon = 1  # 1-day horizon for VaR\n",
        "\n",
        "# Generate random returns\n",
        "degree_of_freedom = 5  #  degree of freedom for Student's t-distribution\n",
        "random_returns = stats.t.rvs(df=degree_of_freedom, loc=mean_return, scale=std_dev_return, size=num_simulations)\n",
        "\n",
        "# Step 2: Simulate Portfolio Value\n",
        "# Assume the current portfolio value (investment value)\n",
        "current_portfolio_value = 1000000  # Example: 1 million INR\n",
        "\n",
        "# Simulate future portfolio values based on the generated random returns\n",
        "simulated_portfolio_values = current_portfolio_value * (1 + random_returns)\n",
        "\n",
        "# Step 3: Calculate VaR\n",
        "# Sort the simulated portfolio values\n",
        "simulated_portfolio_values_sorted = np.sort(simulated_portfolio_values)\n",
        "\n",
        "# Calculate the 5th percentile value (99% confidence level VaR)\n",
        "confidence_level = 0.99\n",
        "var_99_index = int((1 - confidence_level) * num_simulations)\n",
        "monte_carlo_var_99 = current_portfolio_value - simulated_portfolio_values_sorted[var_99_index]\n",
        "\n",
        "# Convert VaR to percentage for interpretation\n",
        "monte_carlo_var_99_percentage = monte_carlo_var_99 / current_portfolio_value * 100\n",
        "\n",
        "# Step 4: Output the Results\n",
        "print(f\"1-Day Monte Carlo VaR at 99% Confidence Level for {ticker}:\")\n",
        "print(f\"VaR (Monetary Value): ${monte_carlo_var_99:,.2f} for an investment of ${current_portfolio_value:,.2f}\")\n",
        "print(f\"VaR (Percentage): {monte_carlo_var_99_percentage:.2f}%\")\n",
        "\n",
        "# Summary of Monte Carlo VaR\n",
        "print(f\"\\nSummary of Monte Carlo Simulation:\")\n",
        "print(f\"- Number of Simulations: {num_simulations}\")\n",
        "print(f\"- Time Horizon: {time_horizon} day(s)\")"
      ],
      "metadata": {
        "colab": {
          "base_uri": "https://localhost:8080/"
        },
        "id": "FHhuR9TU1A81",
        "outputId": "a1a81268-0322-43c8-c6aa-ee72d192a160"
      },
      "execution_count": null,
      "outputs": [
        {
          "output_type": "stream",
          "name": "stdout",
          "text": [
            "1-Day Monte Carlo VaR at 99% Confidence Level for Visa.NE:\n",
            "VaR (Monetary Value): $50,416.27 for an investment of $1,000,000.00\n",
            "VaR (Percentage): 5.04%\n",
            "\n",
            "Summary of Monte Carlo Simulation:\n",
            "- Number of Simulations: 10000\n",
            "- Time Horizon: 1 day(s)\n"
          ]
        }
      ]
    },
    {
      "cell_type": "code",
      "source": [
        "#Fitting Different Distributions\n",
        "import yfinance as yf\n",
        "import numpy as np\n",
        "import pandas as pd\n",
        "import scipy.stats as stats\n",
        "import warnings\n",
        "\n",
        "warnings.filterwarnings(\"ignore\")  # Ignore warnings from fitting procedures\n",
        "\n",
        "# Step 1: Collect and Preprocess Returns Data\n",
        "ticker = \"VISA.NE\"\n",
        "end_date = dt.date.today()\n",
        "start_date = end_date - dt.timedelta(days=5*365)\n",
        "\n",
        "# Download data\n",
        "data = yf.download(ticker, start=start_date, end=end_date)\n",
        "data['Daily Return'] = np.log(1+data['Adj Close'].pct_change().dropna())\n",
        "\n",
        "# Extract the returns series\n",
        "returns = data['Daily Return'].dropna()\n",
        "\n",
        "# Step 2: Define Distributions to Fit\n",
        "distributions = [\n",
        "    'norm', 't', 'cauchy', 'laplace', 'logistic',\n",
        "    'gumbel_r', 'gumbel_l', 'hypsecant', 'gennorm', 'skewnorm'\n",
        "]\n",
        "\n",
        "# Step 3: Fit Various Distributions to Returns Data\n",
        "def fit_distribution(data, dist_names):\n",
        "    dist_results = []\n",
        "    for dist_name in dist_names:\n",
        "        dist = getattr(stats, dist_name)\n",
        "        params = dist.fit(data)\n",
        "        # Perform the Kolmogorov-Smirnov test\n",
        "        D, p_value = stats.kstest(data, dist_name, args=params)\n",
        "        dist_results.append({\n",
        "            'Distribution': dist_name,\n",
        "            'Parameters': params,\n",
        "            'K-S Statistic': D,\n",
        "            'p-value': p_value\n",
        "        })\n",
        "    return pd.DataFrame(dist_results).sort_values(by='p-value', ascending=False)\n",
        "\n",
        "# Fit distributions and get results\n",
        "fit_results = fit_distribution(returns, distributions)\n",
        "print(fit_results)\n"
      ],
      "metadata": {
        "colab": {
          "base_uri": "https://localhost:8080/"
        },
        "id": "Fo_2hguNaEgt",
        "outputId": "aa60cfb6-aca1-4a74-bd80-446fb20f9f6d"
      },
      "execution_count": null,
      "outputs": [
        {
          "output_type": "stream",
          "name": "stderr",
          "text": [
            "\r[*********************100%***********************]  1 of 1 completed"
          ]
        },
        {
          "output_type": "stream",
          "name": "stdout",
          "text": [
            "  Distribution                                         Parameters  \\\n",
            "1            t  (3.7689957196222865, 0.0007198289702133604, 0....   \n",
            "7    hypsecant      (0.0007175894112463113, 0.008989438810241317)   \n",
            "8      gennorm  (1.119094292935184, 0.0010401422600310557, 0.0...   \n",
            "4     logistic      (0.0005763129324757731, 0.007619564117500716)   \n",
            "3      laplace      (0.0011331813922591445, 0.010505969241343897)   \n",
            "2       cauchy      (0.0013145226626905381, 0.007166043379626392)   \n",
            "0         norm       (0.000310568912991776, 0.014654980107635933)   \n",
            "9     skewnorm  (-0.8858053040624394, 0.009396756143741455, 0....   \n",
            "5     gumbel_r     (-0.0071387281933862345, 0.017475569832457235)   \n",
            "6     gumbel_l        (0.007594820248518276, 0.01968262706363408)   \n",
            "\n",
            "   K-S Statistic       p-value  \n",
            "1       0.024009  7.549284e-01  \n",
            "7       0.029141  5.181496e-01  \n",
            "8       0.032069  3.961051e-01  \n",
            "4       0.036749  2.414648e-01  \n",
            "3       0.041771  1.309825e-01  \n",
            "2       0.061214  5.834053e-03  \n",
            "0       0.064706  2.946731e-03  \n",
            "9       0.066312  2.124996e-03  \n",
            "5       0.140644  8.391376e-14  \n",
            "6       0.169432  7.206602e-20  \n"
          ]
        },
        {
          "output_type": "stream",
          "name": "stderr",
          "text": [
            "\n"
          ]
        }
      ]
    }
  ]
}